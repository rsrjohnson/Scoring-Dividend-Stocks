{
 "cells": [
  {
   "cell_type": "code",
   "execution_count": 2,
   "metadata": {
    "scrolled": true
   },
   "outputs": [
    {
     "name": "stdout",
     "output_type": "stream",
     "text": [
      "Ticker\n"
     ]
    }
   ],
   "source": [
    "from bs4 import BeautifulSoup\n",
    "import requests\n",
    "import pandas as pd\n",
    "\n",
    "\n",
    "stocks = pd.read_csv('stocks.csv')\n",
    "\n",
    "\n",
    "\n",
    "for index,stock in enumerate(stocks):\n",
    "    \n",
    "    try:\n",
    "\n",
    "        url =  f\"https://finance.yahoo.com/quote/{stock}/key-statistics?p={stock}\" \n",
    "        \n",
    "        page = requests.get(url, headers={\n",
    "            \"User-Agent\": \"Mozilla/5.0 (Macintosh; Intel Mac OS X 10_15_7) AppleWebKit/537.36 (KHTML, like Gecko) Chrome/96.0.4664.110 Safari/537.36\",\n",
    "        })\n",
    "\n",
    "\n",
    "        soup = BeautifulSoup(page.text, 'html.parser')\n",
    "        table_data= soup.find('table', {'class': \"W(100%) Bdcl(c) \"})\n",
    "                                    \n",
    "        headers = []\n",
    "    \n",
    "        for i in table_data.find_all('tbody'):\n",
    "            title = i.text.strip()\n",
    "            headers.append(title)\n",
    "\n",
    "        df = pd.DataFrame(columns = headers)\n",
    "\n",
    "        for j in table_data.find_all('tr'):\n",
    "                row_data = j.find_all('td')\n",
    "                row = [tr.text.strip() for tr in row_data]\n",
    "\n",
    "                if len(row)>0:\n",
    "                    length = len(df)\n",
    "                    df.loc[length] = row\n",
    "\n",
    "        if index == 0:\n",
    "            df_f = df\n",
    "        else:\n",
    "            df_f = pd.concat([df_f, df])\n",
    "            \n",
    "    except:\n",
    "        print(stock)\n",
    "        #continue\n",
    "        \n",
    "# df_f[\"Name\"] = df[\"Name\"].str.strip()\n",
    "\n",
    "# df_f = df_f[df_f.Symbol != \"N/A\"]\n",
    "\n",
    "\n",
    "# display(df_f)"
   ]
  },
  {
   "cell_type": "code",
   "execution_count": 8,
   "metadata": {},
   "outputs": [
    {
     "name": "stdout",
     "output_type": "stream",
     "text": [
      "Beta (5Y Monthly) 0.7252-Week Change 33.25%S&P500 52-Week Change 3-15.15%52 Week High 321.5352 Week Low 314.4650-Day Moving Average 316.81200-Day Moving Average 318.49\n",
      "Avg Vol (3 month) 346.78MAvg Vol (10 day) 344.06MShares Outstanding 57.13BImplied Shares Outstanding 6N/AFloat 87.12B% Held by Insiders 10.14%% Held by Institutions 154.36%Shares Short (Oct 30, 2022) 494.89MShort Ratio (Oct 30, 2022) 41.67Short % of Float (Oct 30, 2022) 41.33%Short % of Shares Outstanding (Oct 30, 2022) 41.33%Shares Short (prior month Sep 29, 2022) 485.7M\n",
      "Forward Annual Dividend Rate 41.11Forward Annual Dividend Yield 45.84%Trailing Annual Dividend Rate 31.35Trailing Annual Dividend Yield 37.11%5 Year Average Dividend Yield 46.94Payout Ratio 455.89%Dividend Date 3Oct 31, 2022Ex-Dividend Date 4Oct 05, 2022Last Split Factor 21324:1000Last Split Date 3Apr 10, 2022\n"
     ]
    }
   ],
   "source": [
    "stock = \"T\"\n",
    "\n",
    "url =  f\"https://finance.yahoo.com/quote/{stock}/key-statistics?p={stock}\" \n",
    "        \n",
    "page = requests.get(url, headers={\n",
    "    \"User-Agent\": \"Mozilla/5.0 (Macintosh; Intel Mac OS X 10_15_7) AppleWebKit/537.36 (KHTML, like Gecko) Chrome/96.0.4664.110 Safari/537.36\",\n",
    "})\n",
    "\n",
    "\n",
    "soup = BeautifulSoup(page.text, 'html.parser')\n",
    "# table_data= soup.find('table', {'class': \"W(100%) Bdcl(c)\"})\n",
    "\n",
    "#div_data = soup.find('table', {'class': \"W(100%) Bdcl(c) \"})\n",
    "\n",
    "#div_data = soup.find('div',{'class': \"Pos(r) Mt(10px)\"})\n",
    "\n",
    "div_data = soup.find('div',{'class': \"Pstart(20px) smartphone_Pstart(0px)\"})\n",
    "\n",
    "headers = []\n",
    "\n",
    "tables = []\n",
    "df_list = []\n",
    "\n",
    "for t in div_data.find_all('table'):\n",
    "    #tables.append(t)\n",
    "    \n",
    "    title = t.text.strip()\n",
    "    headers.append(title)\n",
    "    print(title)\n",
    "# df = pd.DataFrame(columns = headers)\n",
    "\n",
    "\n",
    "\n",
    "\n",
    "# for j in table_data.find_all('tr'):\n",
    "#         row_data = j.find_all('td')\n",
    "#         row = [tr.text.strip() for tr in row_data]\n",
    "\n",
    "#         if len(row)>0:\n",
    "#             length = len(df)\n",
    "#             df.loc[length] = row\n",
    "\n",
    "# print(df)\n",
    "\n",
    "# print(div_data)"
   ]
  },
  {
   "cell_type": "code",
   "execution_count": 2,
   "metadata": {},
   "outputs": [],
   "source": [
    "df_count = df_f.groupby(['Name','Symbol']).size().reset_index(name='count').sort_values(by=['count', 'Name'],ascending=[False,True]).head(100)\n",
    "\n",
    "# display(df_count)"
   ]
  },
  {
   "cell_type": "code",
   "execution_count": 3,
   "metadata": {},
   "outputs": [],
   "source": [
    "df_count.to_csv('fund_top_holdings_lotmore.csv',index=False)"
   ]
  },
  {
   "cell_type": "code",
   "execution_count": null,
   "metadata": {},
   "outputs": [],
   "source": []
  }
 ],
 "metadata": {
  "kernelspec": {
   "display_name": "Python 3.10",
   "language": "python",
   "name": "python3"
  },
  "language_info": {
   "codemirror_mode": {
    "name": "ipython",
    "version": 3
   },
   "file_extension": ".py",
   "mimetype": "text/x-python",
   "name": "python",
   "nbconvert_exporter": "python",
   "pygments_lexer": "ipython3",
   "version": "3.10.8"
  },
  "vscode": {
   "interpreter": {
    "hash": "23fcb16ef9ae263cc1ee2ef7013048b59283f261690a66bd73349f654cd13bd4"
   }
  }
 },
 "nbformat": 4,
 "nbformat_minor": 2
}
